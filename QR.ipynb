{
 "cells": [
  {
   "cell_type": "code",
   "execution_count": 38,
   "metadata": {},
   "outputs": [],
   "source": [
    "import torch\n",
    "import matplotlib.pyplot as plt\n",
    "import numpy as np"
   ]
  },
  {
   "cell_type": "code",
   "execution_count": 39,
   "metadata": {},
   "outputs": [],
   "source": [
    "def generate_mask(p, q, prob):\n",
    "    omega = np.round(0.5 * (np.random.random((p, q)) + prob))\n",
    "    return torch.tensor(omega).bool()"
   ]
  },
  {
   "cell_type": "code",
   "execution_count": 40,
   "metadata": {},
   "outputs": [],
   "source": [
    "def generate_templates(p, q, K):\n",
    "    Tk_flat, _ = torch.linalg.qr(torch.randn(p * q, K))\n",
    "    Tk = [Tk_flat[:, k].reshape(p, q) for k in range(K)]\n",
    "    return Tk"
   ]
  },
  {
   "cell_type": "code",
   "execution_count": 53,
   "metadata": {},
   "outputs": [],
   "source": [
    "def plot(errors):\n",
    "    plt.figure(figsize=(8, 6))\n",
    "    plt.xlabel(\"iteration\")\n",
    "    plt.ylabel(\"error\")\n",
    "    plt.plot(range(1, len(errors) + 1), errors)\n",
    "    plt.grid()\n",
    "\n",
    "    plt.show()"
   ]
  },
  {
   "cell_type": "code",
   "execution_count": 57,
   "metadata": {},
   "outputs": [],
   "source": [
    "# Параметры задачи\n",
    "p, q, r, K = 100, 30, 5, 600\n",
    "sigma = 0.1\n",
    "mu_o = 0.05\n",
    "mu = 0.01\n",
    "eta = 0.001\n",
    "num_epochs = 500\n",
    "prob_obs = 0.3  "
   ]
  },
  {
   "cell_type": "code",
   "execution_count": 43,
   "metadata": {},
   "outputs": [],
   "source": [
    "# Генерация X\n",
    "G_Q = torch.randn(p, r)                \n",
    "Q_true, R_tmp = torch.linalg.qr(G_Q)    \n",
    "sign = torch.sign(torch.diag(R_tmp)).unsqueeze(0)\n",
    "Q_true.mul_(sign) \n",
    "\n",
    "G_R = torch.randn(r, q)\n",
    "R_true = torch.triu(G_R)                \n",
    "diag_sign = torch.sign(torch.diag(R_true))\n",
    "R_true.mul_(diag_sign.unsqueeze(1))\n",
    "\n",
    "X_true = Q_true @ R_true"
   ]
  },
  {
   "cell_type": "code",
   "execution_count": 44,
   "metadata": {},
   "outputs": [],
   "source": [
    "Tk = generate_templates(p, q, K)"
   ]
  },
  {
   "cell_type": "code",
   "execution_count": 45,
   "metadata": {},
   "outputs": [],
   "source": [
    "# Генерация  Y\n",
    "Omega = generate_mask(p, q, prob_obs)\n",
    "noise = sigma * torch.randn(p, q)\n",
    "Y = torch.zeros(p, q)\n",
    "Y[Omega] = (X_true + noise)[Omega]\n",
    "Zk = torch.tensor([torch.sum(Y * T) for T in Tk])"
   ]
  },
  {
   "cell_type": "code",
   "execution_count": 68,
   "metadata": {},
   "outputs": [
    {
     "name": "stdout",
     "output_type": "stream",
     "text": [
      "Epoch 0, Loss: 705.8328\n",
      "Epoch 50, Loss: 654.3763\n",
      "Epoch 100, Loss: 606.9610\n",
      "Epoch 150, Loss: 563.2693\n",
      "Epoch 200, Loss: 522.9251\n",
      "Epoch 250, Loss: 485.6104\n",
      "Epoch 300, Loss: 451.0575\n",
      "Epoch 350, Loss: 419.0343\n",
      "Epoch 400, Loss: 389.3354\n",
      "Epoch 450, Loss: 361.7772\n",
      "Epoch 499, Loss: 336.6871\n"
     ]
    }
   ],
   "source": [
    "Q, _ = torch.linalg.qr(torch.randn(p, r))\n",
    "R = torch.triu(torch.randn(r, q))\n",
    "z = torch.randn(K, requires_grad=True)\n",
    "Q.requires_grad_(True)\n",
    "R.requires_grad_(True)\n",
    "\n",
    "tri_mask = torch.triu(torch.ones_like(R))\n",
    "\n",
    "# Оптимизация\n",
    "optimizer = torch.optim.Adam([Q, R, z], lr=eta)\n",
    "errors = []\n",
    "for epoch in range(num_epochs):\n",
    "    optimizer.zero_grad()\n",
    "\n",
    "    z_pred = torch.tensor([torch.sum((Q @ R) * T) for T in Tk])\n",
    "    loss_z = 0.5 * torch.sum((Zk - z)**2)\n",
    "    loss_fit = 0.5 * torch.sum((z - z_pred)**2)\n",
    "\n",
    "    orth_penalty = (mu_o**2 / 2) * torch.norm(Q.T @ Q - torch.eye(r))**2\n",
    "    reg_R = mu**2 / 2 * torch.norm(R - R_true)**2\n",
    "\n",
    "    loss = loss_z + loss_fit + orth_penalty + reg_R\n",
    "\n",
    "    loss.backward()\n",
    "    optimizer.step()\n",
    "\n",
    "    with torch.no_grad():\n",
    "        Q_proj, R_tmp = torch.linalg.qr(Q)   \n",
    "        sign = torch.sign(torch.diag(R_tmp)).unsqueeze(0)\n",
    "        Q.copy_(Q_proj * sign)\n",
    "\n",
    "        R.mul_(tri_mask)                       \n",
    "\n",
    "\n",
    "    if epoch % 50 == 0 or epoch == num_epochs - 1:\n",
    "        \n",
    "        print(f\"Epoch {epoch}, Loss: {loss.item():.4f}\")\n",
    "    errors.append(torch.norm(Q @ R - X_true).detach().item())\n",
    "\n",
    "\n",
    "# errors.append(np.linalg.norm(U @ L @ V.T - X_0, ord='fro')/np.linalg.norm(X_0, ord='fro'))\n",
    "\n",
    "X_rec = Q @ R\n"
   ]
  },
  {
   "cell_type": "code",
   "execution_count": 69,
   "metadata": {},
   "outputs": [
    {
     "data": {
      "image/png": "[encoded data removed]",
      "text/plain": [
       "<Figure size 576x432 with 1 Axes>"
      ]
     },
     "metadata": {
      "needs_background": "light"
     },
     "output_type": "display_data"
    }
   ],
   "source": [
    "plot(errors)"
   ]
  },
  {
   "cell_type": "code",
   "execution_count": 64,
   "metadata": {},
   "outputs": [
    {
     "name": "stdout",
     "output_type": "stream",
     "text": [
      "Final reconstruction error: 20.19129753112793\n"
     ]
    }
   ],
   "source": [
    "X_rec = Q @ R\n",
    "print(\"Final reconstruction error:\", torch.norm(X_rec - X_true).item())"
   ]
  },
  {
   "cell_type": "code",
   "execution_count": null,
   "metadata": {},
   "outputs": [],
   "source": []
  }
 ],
 "metadata": {
  "kernelspec": {
   "display_name": "base",
   "language": "python",
   "name": "python3"
  },
  "language_info": {
   "codemirror_mode": {
    "name": "ipython",
    "version": 3
   },
   "file_extension": ".py",
   "mimetype": "text/x-python",
   "name": "python",
   "nbconvert_exporter": "python",
   "pygments_lexer": "ipython3",
   "version": "3.9.12"
  }
 },
 "nbformat": 4,
 "nbformat_minor": 2
}
