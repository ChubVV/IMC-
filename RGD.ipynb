{
 "cells": [
  {
   "cell_type": "code",
   "execution_count": 2,
   "metadata": {},
   "outputs": [],
   "source": [
    "import numpy as np\n",
    "from scipy import sparse\n",
    "from scipy.sparse import linalg as sp_linalg"
   ]
  },
  {
   "cell_type": "code",
   "execution_count": 3,
   "metadata": {},
   "outputs": [],
   "source": [
    "def generate_mask(n1, n2, p):\n",
    "    \"\"\"\n",
    "    Generate a mask with probability p for each entry\n",
    "    :param int n1: number of rows\n",
    "    :param int n2: number of columns\n",
    "    :param float p: probability of observing an entry\n",
    "    \"\"\"\n",
    "    omega = np.round(0.5 * (np.random.random((n1, n2)) + p))\n",
    "    return omega\n"
   ]
  },
  {
   "cell_type": "code",
   "execution_count": 69,
   "metadata": {},
   "outputs": [],
   "source": [
    "def generate_ort(p, r):\n",
    "    E = np.random.randn(p, r)\n",
    "    E = 1./10 * np.linalg.qr(E)[0]\n",
    "    return E"
   ]
  },
  {
   "cell_type": "code",
   "execution_count": 70,
   "metadata": {},
   "outputs": [],
   "source": [
    "# Start parametrs\n",
    "p = 50\n",
    "q = 90\n",
    "r = 5 \n",
    "prob = 2 * r**2 / (p * q)\n",
    "K = 10\n",
    "template = generate_mask(p, q, prob)\n"
   ]
  },
  {
   "cell_type": "code",
   "execution_count": 71,
   "metadata": {},
   "outputs": [],
   "source": [
    "#init X, Y, templates\n",
    "X_0 = np.random.rand(p, q)\n",
    "eps = np.random.normal(0, 1, (p, q))\n",
    "omega = generate_mask(p, q, prob)\n",
    "X = X_0 * omega \n",
    "Y = (X_0 + eps) * omega\n",
    "templates = [generate_mask(p, q, prob) for i in range(K)]"
   ]
  },
  {
   "cell_type": "code",
   "execution_count": 131,
   "metadata": {},
   "outputs": [],
   "source": [
    "def RGD(Y, X, r, K, templates, reg=0.05, mu_0=0.5, mu_e=0.5, mu_g=0.5):\n",
    "    p,q = X.shape\n",
    "    \n",
    "    #init U and V\n",
    "    U = generate_ort(p, r)\n",
    "    V = generate_ort(q, r)\n",
    "    \n",
    "    values = np.random.rand(r) \n",
    "    L = np.diag(np.sort(values))\n",
    "\n",
    "    #init E_u and E_v\n",
    "    E_u = generate_ort(p, r)\n",
    "    E_v = generate_ort(q, r)\n",
    "\n",
    "    #init G\n",
    "    values = np.random.rand(r) \n",
    "    sort_values = np.sort(values)[::-1]\n",
    "    G = np.diag(sort_values)\n",
    "\n",
    "\n",
    "    iter_num = 0\n",
    "    max_iter = 30\n",
    "    I_r = np.eye(r)\n",
    "\n",
    "    while iter_num < max_iter:\n",
    "        iter_num += 1\n",
    "\n",
    "        nabla_U = 0\n",
    "        nabla_V = 0\n",
    "        nabla_l = 0\n",
    "\n",
    "        for k in range(K):\n",
    "            nabla_U += (np.sum(X * templates[k]) - np.sum(templates[k] * (U @ L @ V.T))) * templates[k] @ V @ L\n",
    "            nabla_V += (np.sum(X * templates[k]) - np.sum(templates[k] * (U @ L @ V.T))) * templates[k].T @ U @ L\n",
    "            nabla_l += (np.sum(X * templates[k]) - np.sum(templates[k] * (U @ L @ V.T))) * U.T @ templates[k] @ V\n",
    "\n",
    "        nabla_U += - mu_0 * U @ (U.T @ U - I_r) - mu_e * (U - E_u)\n",
    "        nabla_V += - mu_0 * V @ (V.T @ V - I_r) - mu_e * (V - E_v)\n",
    "        nabla_l += - mu_g * G @ L\n",
    "\n",
    "        U = U - reg * nabla_U \n",
    "        V = V - reg * nabla_V\n",
    "        L = L - reg * nabla_l\n",
    "\n",
    "\n",
    "    return U @ L @ V.T\n",
    "    "
   ]
  },
  {
   "cell_type": "code",
   "execution_count": 132,
   "metadata": {},
   "outputs": [],
   "source": [
    "X_new = RGD(Y, X, r, K, templates)"
   ]
  },
  {
   "cell_type": "code",
   "execution_count": 133,
   "metadata": {},
   "outputs": [
    {
     "name": "stdout",
     "output_type": "stream",
     "text": [
      "true error: 1.001079359776784, observed error: 0.10912085721481063\n"
     ]
    }
   ],
   "source": [
    "true_error = np.linalg.norm(X_new - X_0, ord='fro') / np.linalg.norm(X_0)\n",
    "observed_error = np.linalg.norm((X_new - X_0) * omega, ord='fro') / np.linalg.norm(X_0)\n",
    "print('true error: {}, observed error: {}'.format(true_error, observed_error))"
   ]
  },
  {
   "cell_type": "code",
   "execution_count": 143,
   "metadata": {},
   "outputs": [],
   "source": [
    "#Из-за того, что определяю все матрицы рандомом, то ответ от случая к случаю разный"
   ]
  },
  {
   "cell_type": "code",
   "execution_count": 140,
   "metadata": {},
   "outputs": [],
   "source": [
    "X_new_2 = RGD(Y, X, r, K, templates)"
   ]
  },
  {
   "cell_type": "code",
   "execution_count": 142,
   "metadata": {},
   "outputs": [
    {
     "name": "stdout",
     "output_type": "stream",
     "text": [
      "true error: 9.027519097523414e+31, observed error: 5.701657898010583e+30\n"
     ]
    }
   ],
   "source": [
    "true_error = np.linalg.norm(X_new_2 - X_0, ord='fro') / np.linalg.norm(X_0)\n",
    "observed_error = np.linalg.norm((X_new_2 - X_0) * omega, ord='fro') / np.linalg.norm(X_0)\n",
    "print('true error: {}, observed error: {}'.format(true_error, observed_error))"
   ]
  }
 ],
 "metadata": {
  "kernelspec": {
   "display_name": "Python 3",
   "language": "python",
   "name": "python3"
  },
  "language_info": {
   "codemirror_mode": {
    "name": "ipython",
    "version": 3
   },
   "file_extension": ".py",
   "mimetype": "text/x-python",
   "name": "python",
   "nbconvert_exporter": "python",
   "pygments_lexer": "ipython3",
   "version": "3.9.12"
  }
 },
 "nbformat": 4,
 "nbformat_minor": 2
}
